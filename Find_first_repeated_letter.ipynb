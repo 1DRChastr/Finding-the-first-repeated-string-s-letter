{
  "nbformat": 4,
  "nbformat_minor": 0,
  "metadata": {
    "colab": {
      "provenance": []
    },
    "kernelspec": {
      "name": "python3",
      "display_name": "Python 3"
    },
    "language_info": {
      "name": "python"
    }
  },
  "cells": [
    {
      "cell_type": "code",
      "execution_count": 1,
      "metadata": {
        "id": "5CiOyQx31jrm"
      },
      "outputs": [],
      "source": [
        "def find_first_repeated_letter_index(string):\n",
        "  for x in range(len(string)):\n",
        "\n",
        "    y = x + 1\n",
        "    while (y != len(string)):\n",
        "      if string [x] == string[y]:\n",
        "        return x\n",
        "      else:\n",
        "        y = y + 1\n",
        "  return -1"
      ]
    },
    {
      "cell_type": "code",
      "source": [
        "find_first_repeated_letter_index('qwertykk')"
      ],
      "metadata": {
        "colab": {
          "base_uri": "https://localhost:8080/"
        },
        "id": "tF0SIaXj1uxj",
        "outputId": "e0f1c7a8-8282-485e-c87b-4093ae5b3ea9"
      },
      "execution_count": 2,
      "outputs": [
        {
          "output_type": "execute_result",
          "data": {
            "text/plain": [
              "6"
            ]
          },
          "metadata": {},
          "execution_count": 2
        }
      ]
    }
  ]
}